{
 "cells": [
  {
   "cell_type": "markdown",
   "id": "d3bfc191-8885-42ee-b0a0-bbab867c6f9f",
   "metadata": {
    "tags": []
   },
   "source": [
    "# Lab | Flow Control"
   ]
  },
  {
   "cell_type": "markdown",
   "id": "3851fcd1-cf98-4653-9c89-e003b7ec9400",
   "metadata": {},
   "source": [
    "## Exercise: Managing Customer Orders Optimized\n",
    "\n",
    "In the last lab, you were starting an online store that sells various products. To ensure smooth operations, you developed a program that manages customer orders and inventory.\n",
    "\n",
    "You did so without using flow control. Let's go a step further and improve this code.\n",
    "\n",
    "Follow the steps below to complete the exercise:\n",
    "\n",
    "1. Look at your code from the lab data structures, and improve repeated code with loops.\n",
    "\n",
    "2. Instead of asking the user to input the name of three products that a customer wants to order, do the following:\n",
    "    \n",
    "    a. Prompt the user to enter the name of a product that a customer wants to order.\n",
    "    \n",
    "    b. Add the product name to the \"customer_orders\" set.\n",
    "    \n",
    "    c. Ask the user if they want to add another product (yes/no).\n",
    "    \n",
    "    d. Continue the loop until the user does not want to add another product.\n",
    "\n",
    "3. Instead of updating the inventory by subtracting 1 from the quantity of each product, only do it for  the products that were ordered (those in \"customer_orders\")."
   ]
  },
  {
   "cell_type": "code",
   "execution_count": 2,
   "id": "f8d454fa-c0bf-4130-8fee-af9f144faedf",
   "metadata": {},
   "outputs": [
    {
     "name": "stdin",
     "output_type": "stream",
     "text": [
      "Enter the quantity of t-shirt in the inventory 5\n",
      "Enter the quantity of mug in the inventory 5\n",
      "Enter the quantity of hat in the inventory 5\n",
      "Enter the quantity of book in the inventory 5\n",
      "Enter the quantity of keychain in the inventory 5\n"
     ]
    }
   ],
   "source": [
    "#from last lab: create inventory\n",
    "\n",
    "# task 1 products list\n",
    "products = [\"t-shirt\", \"mug\", \"hat\", \"book\", \"keychain\"]\n",
    "#task 2 create empty inventory\n",
    "inventory = {}\n",
    "#task 3 fill dictionary with input quantity and products from list\n",
    "for i in range(0,len(products)):\n",
    "    inventory[products[i]] = input(f\"Enter the quantity of {products[i]} in the inventory\")"
   ]
  },
  {
   "cell_type": "code",
   "execution_count": 12,
   "id": "23e217a7-70ec-4bbb-b815-188e95d17050",
   "metadata": {},
   "outputs": [
    {
     "name": "stdin",
     "output_type": "stream",
     "text": [
      "Today, we sell t-shirts, mugs, hats, books, keychains, what do you want to order? Firstly, please type in one product. t-shirt\n",
      "Do you want to order another product? Please type in \"yes\" or \"no\". yes\n",
      "Type in your next order. You can only order each product once. And remember: Today, we sell t-shirts, mugs, hats, books, keychains hat\n",
      "Do you want to order another product? Please type in \"yes\" or \"no\". yes\n"
     ]
    },
    {
     "name": "stdout",
     "output_type": "stream",
     "text": [
      "{'hat', 't-shirt'}\n"
     ]
    },
    {
     "name": "stdin",
     "output_type": "stream",
     "text": [
      "Type in your next order. You can only order each product once. And remember: Today, we sell t-shirts, mugs, hats, books, keychains keychain\n",
      "Do you want to order another product? Please type in \"yes\" or \"no\". no\n"
     ]
    },
    {
     "name": "stdout",
     "output_type": "stream",
     "text": [
      "{'hat', 't-shirt', 'keychain'}\n"
     ]
    }
   ],
   "source": [
    "#task 4 empty co set\n",
    "customer_orders = set()\n",
    "\n",
    "#today: new customer orders\n",
    "#a. Prompt the user to enter the name of a product that a customer wants to order.\n",
    "#b. Add the product name to the \"customer_orders\" set.\n",
    "#c. Ask the user if they want to add another product (yes/no).\n",
    "#d. Continue the loop until the user does not want to add another product.\n",
    "\n",
    "order = input(f\"Today, we sell {products[0]}s, {products[1]}s, {products[2]}s, {products[3]}s, {products[4]}s, what do you want to order? Firstly, please type in one product.\")\n",
    "customer_orders.add(order.strip(\"s\"))\n",
    "yesno = input('Do you want to order another product? Please type in \"yes\" or \"no\".')\n",
    "while yesno == 'yes':\n",
    "    order2 = input(f'Type in your next order. You can only order each product once. And remember: Today, we sell {products[0]}s, {products[1]}s, {products[2]}s, {products[3]}s, {products[4]}s')\n",
    "    customer_orders.add(order2.strip(\"s\"))\n",
    "    yesno = input('Do you want to order another product? Please type in \"yes\" or \"no\".')\n",
    "    print(customer_orders)"
   ]
  },
  {
   "cell_type": "code",
   "execution_count": 14,
   "id": "5abc45d0-de21-4b7e-b353-f159101253e6",
   "metadata": {},
   "outputs": [
    {
     "name": "stdout",
     "output_type": "stream",
     "text": [
      "Updated inventory\n",
      "T-Shirts: 4\n",
      "Mugs: 5\n",
      "Hats: 4\n",
      "Books: 5\n",
      "Keychains: 4\n"
     ]
    }
   ],
   "source": [
    "#task 9 update inventory by subtracting quantity\n",
    "tshirt = int(inventory[\"t-shirt\"])\n",
    "mug = int(inventory[\"mug\"])\n",
    "hat = int(inventory[\"hat\"])\n",
    "book = int(inventory['book'])\n",
    "keychain = int(inventory['keychain'])\n",
    "\n",
    "if \"t-shirt\" in customer_orders:\n",
    "    inventory[\"t-shirt\"] = tshirt - 1\n",
    "if \"mug\" in customer_orders:\n",
    "    inventory[\"mug\"] = mug - 1\n",
    "if \"hat\" in customer_orders:\n",
    "    inventory[\"hat\"] = hat - 1\n",
    "if \"book\" in customer_orders:\n",
    "    inventory[\"book\"] = book - 1\n",
    "if \"keychain\" in customer_orders:\n",
    "    inventory[\"keychain\"] = keychain - 1\n",
    "#task 10 print\n",
    "print(\"Updated inventory\")\n",
    "print(f\"T-Shirts: {inventory['t-shirt']}\")\n",
    "print(f\"Mugs: {inventory['mug']}\")\n",
    "print(f\"Hats: {inventory['hat']}\")\n",
    "print(f\"Books: {inventory['book']}\")\n",
    "print(f\"Keychains: {inventory['keychain']}\")"
   ]
  },
  {
   "cell_type": "code",
   "execution_count": null,
   "id": "bf81abca-1a90-4418-952d-f098199a1b7f",
   "metadata": {},
   "outputs": [],
   "source": []
  }
 ],
 "metadata": {
  "kernelspec": {
   "display_name": "Python 3 (ipykernel)",
   "language": "python",
   "name": "python3"
  },
  "language_info": {
   "codemirror_mode": {
    "name": "ipython",
    "version": 3
   },
   "file_extension": ".py",
   "mimetype": "text/x-python",
   "name": "python",
   "nbconvert_exporter": "python",
   "pygments_lexer": "ipython3",
   "version": "3.12.4"
  }
 },
 "nbformat": 4,
 "nbformat_minor": 5
}
